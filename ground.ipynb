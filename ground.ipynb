{
 "cells": [
  {
   "cell_type": "markdown",
   "metadata": {},
   "source": [
    "# Web Reader Test"
   ]
  },
  {
   "cell_type": "code",
   "execution_count": null,
   "metadata": {},
   "outputs": [],
   "source": [
    "from web_reader import web_reader\n",
    "account_setting = {\"user-data-dir\":\"path1\",\n",
    "\"--profile-directory\":\"path2\"}\n",
    "web_reader = web_reader(\"https://google.com\",account_setting= account_setting)\n",
    "web_reader.read()[0]"
   ]
  },
  {
   "cell_type": "markdown",
   "metadata": {},
   "source": [
    "# Markdown: generate functions description test"
   ]
  },
  {
   "cell_type": "code",
   "execution_count": null,
   "metadata": {},
   "outputs": [],
   "source": [
    "from prompting import generate_functions_descriptions,function_data\n",
    "print(generate_functions_descriptions(function_data))"
   ]
  },
  {
   "cell_type": "markdown",
   "metadata": {},
   "source": [
    "# Plan generating Test"
   ]
  },
  {
   "cell_type": "code",
   "execution_count": null,
   "metadata": {},
   "outputs": [],
   "source": [
    "from prompting import plan_prompt\n",
    "import requests\n",
    "import json\n",
    "url = \"http://localhost:11434/api/generate\"\n",
    "model = 'qwen2.5:3b'\n",
    "final_prompt = plan_prompt + \"you start from current_url:https://google.com \\n Your task:Open ucsd.edu\"\n",
    "response = requests.post(url, json={\n",
    "                \"model\": model,\n",
    "                \"prompt\": final_prompt,\n",
    "                \"streaming\": False,\n",
    "                \"options\": {\n",
    "                    \"temperature\": 0.5\n",
    "                },\n",
    "            }, stream=False)\n",
    "for i in response.iter_lines():\n",
    "    print(json.loads(i.decode('utf-8'))[\"response\"]\n",
    "        ,end = \"\")\n"
   ]
  },
  {
   "cell_type": "code",
   "execution_count": null,
   "metadata": {},
   "outputs": [],
   "source": [
    "from prompting import plan_prompt,generate_elements_prompt\n",
    "import requests\n",
    "import json\n",
    "from web_reader import web_reader\n",
    "account_setting = {\"user-data-dir\":\"/Users/gongzhenghao/Desktop/Google_copy\",\n",
    "\"--profile-directory\":\"Profile 3\"}\n",
    "web_reader = web_reader(\"https://google.com\",account_setting= account_setting)\n",
    "str1,record = generate_elements_prompt(web_reader.read()[0])\n",
    "str2= web_reader.read()[2]"
   ]
  },
  {
   "cell_type": "code",
   "execution_count": null,
   "metadata": {},
   "outputs": [],
   "source": [
    "from prompting import plan_prompt,summary_prompt,summerization\n",
    "import requests\n",
    "import json\n",
    "from web_reader import web_reader\n",
    "account_setting = {\"user-data-dir\":\"/Users/gongzhenghao/Desktop/Google_copy\",\n",
    "\"--profile-directory\":\"Profile 3\"}\n",
    "\n",
    "url = \"http://localhost:11434/api/generate\"\n",
    "model = 'qwen2.5:3b'\n",
    "\n",
    "# final_prompt = summary_prompt.replace(\"{web_content}\",str1).replace(\"{text}\",str2) + \"\"\n",
    "# response = requests.post(url, json={\n",
    "#                 \"model\": model,\n",
    "#                 \"prompt\": final_prompt,\n",
    "#                 \"streaming\": False,\n",
    "#                 \"options\": {\n",
    "#                     \"temperature\": 0.5\n",
    "#                 },\n",
    "#             }, stream=False)\n",
    "# result = \"\"\n",
    "# for i in response.iter_lines():\n",
    "#     result += json.loads(i.decode('utf-8'))[\"response\"]\n",
    "summerization(str1,str2,url,model)"
   ]
  },
  {
   "cell_type": "code",
   "execution_count": null,
   "metadata": {},
   "outputs": [],
   "source": [
    "llm_url = \"http://localhost:11434/api/generate\"\n",
    "model = 'qwen2.5:3b'\n",
    "url = \"https://www.google.com/search?q=ucsd&oq=ucsd&gs_lcrp=EgZjaHJvbWUqDQgAEAAY4wIYsQMYgAQyDQgAEAAY4wIYsQMYgAQyBggBEEUYPDIKCAIQLhixAxiABDIGCAMQRRg8MgYIBBBFGEEyBggFEEUYPDIGCAYQRRhBMgYIBxBFGEHSAQgzNTUwajBqN6gCALACAA&sourceid=chrome&ie=UTF-8\"\n",
    "from web_reader import web_reader\n",
    "account_setting = {\"user-data-dir\":\"path1\",\n",
    "\"--profile-directory\":\"path2\"}\n",
    "web_reader = web_reader(url,account_setting= account_setting)\n",
    "str1,record = generate_elements_prompt(web_reader.read()[0])\n",
    "str2= web_reader.read()[2]\n",
    "print(len(record))\n",
    "for r in record:\n",
    "    final_prompt = \"Based on the task, determine if this elements is useful for or related to this task, task:search for ucsd,\\n web_elements:\" + r + \"you should only response yes or no\"\n",
    "    response = requests.post(llm_url, json={\n",
    "                    \"model\": model,\n",
    "                    \"prompt\": final_prompt,\n",
    "                    \"streaming\": False,\n",
    "                    \"options\": {\n",
    "                        \"temperature\": 0.5\n",
    "                    },\n",
    "                }, stream=False)\n",
    "    result = \"\"\n",
    "    for i in response.iter_lines():\n",
    "        result += json.loads(i.decode('utf-8'))[\"response\"]\n",
    "    if result == \"yes\":\n",
    "        print(r,result)\n"
   ]
  },
  {
   "cell_type": "code",
   "execution_count": null,
   "metadata": {},
   "outputs": [],
   "source": []
  },
  {
   "cell_type": "code",
   "execution_count": null,
   "metadata": {},
   "outputs": [],
   "source": [
    "import os\n",
    "\n",
    "# 定义代码所在的目录\n",
    "base_path = '/Users/gongzhenghao/Desktop/Web_Agent'\n",
    "\n",
    "# 在指定目录下递归统计所有的 .py 文件，以列表形式返回\n",
    "def collect_files(dir_path):\n",
    "    return [\n",
    "        os.path.join(parent, filename)\n",
    "        for parent, _, filenames in os.walk(dir_path)\n",
    "        for filename in filenames if filename.endswith('.py')\n",
    "    ]\n",
    "\n",
    "# 计算单个文件内的代码行数\n",
    "def calc_linenum(file_path):\n",
    "    code_num = 0      # 当前文件代码行数计数变量\n",
    "    blank_num = 0     # 当前文件空行数计数变量\n",
    "    annotate_num = 0  # 当前文件注释行数计数变量\n",
    "\n",
    "    with open(file_path, 'r', encoding='utf-8') as fp:\n",
    "        for line in fp:\n",
    "            line = line.strip()\n",
    "            if not line:  # 空行\n",
    "                blank_num += 1\n",
    "            elif line.startswith('#'):  # 注释行\n",
    "                annotate_num += 1\n",
    "            else:  # 代码行\n",
    "                code_num += 1\n",
    "\n",
    "    # 返回代码行数，空行数，注释行数\n",
    "    return code_num, blank_num, annotate_num\n",
    "\n",
    "# 统计目录中所有 .py 文件的代码行数\n",
    "def count_code_lines(base_dir):\n",
    "    files = collect_files(base_dir)\n",
    "    total_code_num = 0    # 总代码行数\n",
    "    total_blank_num = 0   # 总空行数\n",
    "    total_annotate_num = 0  # 总注释行数\n",
    "\n",
    "    print(f\"{'文件路径':<60} {'代码行数':<10} {'空行数':<10} {'注释行数':<10}\")\n",
    "    print(\"=\" * 90)\n",
    "\n",
    "    for file_path in files:\n",
    "        code_num, blank_num, annotate_num = calc_linenum(file_path)\n",
    "        total_code_num += code_num\n",
    "        total_blank_num += blank_num\n",
    "        total_annotate_num += annotate_num\n",
    "        print(f\"{file_path:<60} {code_num:<10} {blank_num:<10} {annotate_num:<10}\")\n",
    "\n",
    "    print(\"=\" * 90)\n",
    "    print(f\"代码总行数： {total_code_num}\")\n",
    "    print(f\"空行总行数： {total_blank_num}\")\n",
    "    print(f\"注释行总行数： {total_annotate_num}\")\n",
    "\n",
    "# 执行统计\n",
    "count_code_lines(base_path)\n"
   ]
  },
  {
   "cell_type": "markdown",
   "metadata": {},
   "source": []
  },
  {
   "cell_type": "code",
   "execution_count": null,
   "metadata": {},
   "outputs": [],
   "source": [
    "from prompting import reflection_prompt,generate_reflection,generate_elements_prompt,generate_functions_descriptions,function_data\n",
    "import requests\n",
    "import json\n",
    "from web_reader import web_reader\n",
    "model = \"qwen2.5:3b\"\n",
    "llm_url = \"http://localhost:11434/api/generate\"\n",
    "url = \"https://www.google.com\"\n",
    "account_setting = {\"user-data-dir\":\"path1\",\n",
    "\"--profile-directory\":\"path2\"}\n",
    "web_reader = web_reader(\"https://google.com\",account_setting= account_setting)\n",
    "total = web_reader.read()\n",
    "web_content,record = generate_elements_prompt(total[0])\n",
    "text = total[2]\n",
    "subtask = \"search for ucsd\"\n",
    "action = \"typing(7,'ucsd')\"\n",
    "function_str = generate_functions_descriptions(function_data)\n",
    "insert_place0 = \"\"\n",
    "insert_place1 = \"\"\n",
    "insert_place2 = \"\"\n",
    "print(\"start_calling\")\n",
    "generate_reflection(subtask,function_str,action,web_content,text,llm_url,model,\"{id=7, type = textarea, innertext = 搜索}\",insert_place0,insert_place1,insert_place2)"
   ]
  }
 ],
 "metadata": {
  "kernelspec": {
   "display_name": "ds190",
   "language": "python",
   "name": "python3"
  },
  "language_info": {
   "codemirror_mode": {
    "name": "ipython",
    "version": 3
   },
   "file_extension": ".py",
   "mimetype": "text/x-python",
   "name": "python",
   "nbconvert_exporter": "python",
   "pygments_lexer": "ipython3",
   "version": "3.9.20"
  }
 },
 "nbformat": 4,
 "nbformat_minor": 2
}
