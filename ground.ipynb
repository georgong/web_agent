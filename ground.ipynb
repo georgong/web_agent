{
 "cells": [
  {
   "cell_type": "code",
   "execution_count": 3,
   "metadata": {},
   "outputs": [
    {
     "data": {
      "text/plain": [
       "<Web_Reader.web_reader at 0x15cdb6710>"
      ]
     },
     "execution_count": 3,
     "metadata": {},
     "output_type": "execute_result"
    }
   ],
   "source": [
    "from Web_Reader import web_reader\n",
    "web_reader(\"https://ucsd.edu/\",None)\n"
   ]
  },
  {
   "cell_type": "code",
   "execution_count": 1,
   "metadata": {},
   "outputs": [],
   "source": [
    "import selenium"
   ]
  },
  {
   "cell_type": "code",
   "execution_count": null,
   "metadata": {},
   "outputs": [],
   "source": [
    "from Web_Reader import url_tree\n",
    "tree = url_tree()\n",
    "tree.set_root()\n",
    "tree.find_node()"
   ]
  },
  {
   "cell_type": "code",
   "execution_count": null,
   "metadata": {},
   "outputs": [],
   "source": [
    "task = \"search for the ucsd information\"\n",
    "webpages = web_reader()"
   ]
  },
  {
   "cell_type": "code",
   "execution_count": 18,
   "metadata": {},
   "outputs": [
    {
     "name": "stdout",
     "output_type": "stream",
     "text": [
      "The sky appears blue due to a phenomenon known as Rayleigh scattering. Here's an explanation of why:\n",
      "\n",
      "1. Sunlight composition: The sunlight that reaches our atmosphere contains all colors of the visible spectrum spectrum, including red, orange, yellow, green, blue, and violet.\n",
      "\n",
      "2. Scattering effect: When light travels through gases in the Earth's atmosphere, it collides with tiny gas molecules (mostly nitrogen and oxygen) as well as particles like dust and water droplets. This collision causes the light to scatter in all directions.\n",
      "\n",
      "3. Rayleigh scattering: As per the Rayleigh scattering theory, shorter wavelength colors (like blue and violet) are scattered more than longer wavelength colors (like red and yellow) due to their higher energy levels. Blue light has a much shorter wavelength compared to other visible colors.\n",
      "\n",
      "4. Scattered rays: The majority of the scattered blue light is in all directions, including downward towards the ground where we can see it. However, some of the blue light also reaches our eyes directly from the Sun as well.\n",
      "\n",
      "5. Scattering intensity: At daytime and during sunlight conditions, there's usually a high concentration of gas molecules at lower atmospheric levels (closer to the observer), which enhances this effect even more.\n",
      "\n",
      "6. Observer position: Our eyes are located near the ground where we look up at the sky for most of our lives, so we're directly in line with all the scattered light coming from the Sun and other areas of blue sky around us.\n",
      "\n",
      "7. Color perception: The human eye is also more sensitive to blue colors compared to others, making it easier for us to perceive the blue color even though there's actually less overall blue light reaching our eyes than red or yellow light.\n",
      "\n",
      "In summary, the dominance of short-wavelength blue light in the atmosphere combined with scattering effects leads to what we see as a blue sky. However, on a clear night when there are no clouds or dust particles present to scatter other colors (like red and orange), the stars appear brighter because they reflect more light that our eyes can perceive without being scattered by the gases in the atmosphere."
     ]
    }
   ],
   "source": [
    "import requests\n",
    "import json\n",
    "req = requests.post(\"http://localhost:11434/api/generate\",json = {\"model\":\"qwen2.5:3b\",\"prompt\":f\"you are a web agent, here is the webpage elements{webpages},now describe how to preform the task{task}\",\"streaming\":True},stream=True)\n",
    "for i in req.iter_lines():\n",
    "    print(json.loads(i.decode(\"utf-8\"))[\"response\"],end = \"\")"
   ]
  }
 ],
 "metadata": {
  "kernelspec": {
   "display_name": "ds190",
   "language": "python",
   "name": "python3"
  },
  "language_info": {
   "codemirror_mode": {
    "name": "ipython",
    "version": 3
   },
   "file_extension": ".py",
   "mimetype": "text/x-python",
   "name": "python",
   "nbconvert_exporter": "python",
   "pygments_lexer": "ipython3",
   "version": "3.9.20"
  }
 },
 "nbformat": 4,
 "nbformat_minor": 2
}
