{
 "cells": [
  {
   "cell_type": "code",
   "execution_count": 1,
   "metadata": {},
   "outputs": [
    {
     "data": {
      "text/plain": [
       "['__class__',\n",
       " '__delattr__',\n",
       " '__dict__',\n",
       " '__dir__',\n",
       " '__doc__',\n",
       " '__eq__',\n",
       " '__format__',\n",
       " '__ge__',\n",
       " '__getattribute__',\n",
       " '__gt__',\n",
       " '__hash__',\n",
       " '__init__',\n",
       " '__init_subclass__',\n",
       " '__le__',\n",
       " '__lt__',\n",
       " '__module__',\n",
       " '__ne__',\n",
       " '__new__',\n",
       " '__reduce__',\n",
       " '__reduce_ex__',\n",
       " '__repr__',\n",
       " '__setattr__',\n",
       " '__sizeof__',\n",
       " '__str__',\n",
       " '__subclasshook__',\n",
       " '__weakref__',\n",
       " 'annotation',\n",
       " 'back',\n",
       " 'click',\n",
       " 'click_position',\n",
       " 'close',\n",
       " 'current_url',\n",
       " 'current_webpage',\n",
       " 'device_pixel_ratio',\n",
       " 'driver',\n",
       " 'function_list',\n",
       " 'jumpto',\n",
       " 'read',\n",
       " 'response',\n",
       " 'typing',\n",
       " 'typing_position',\n",
       " 'url_tree']"
      ]
     },
     "execution_count": 1,
     "metadata": {},
     "output_type": "execute_result"
    }
   ],
   "source": [
    "from Web_Reader import web_reader\n",
    "dir(web_reader(\"https://ucsd.edu/\",None))\n"
   ]
  },
  {
   "cell_type": "code",
   "execution_count": 1,
   "metadata": {},
   "outputs": [],
   "source": [
    "import selenium"
   ]
  },
  {
   "cell_type": "code",
   "execution_count": null,
   "metadata": {},
   "outputs": [],
   "source": [
    "from Web_Reader import url_tree\n",
    "tree = url_tree()\n",
    "tree.set_root()\n",
    "tree.find_node()"
   ]
  },
  {
   "cell_type": "code",
   "execution_count": null,
   "metadata": {},
   "outputs": [],
   "source": [
    "task = \"search for the ucsd information\"\n",
    "webpages = web_reader()"
   ]
  },
  {
   "cell_type": "code",
   "execution_count": 18,
   "metadata": {},
   "outputs": [
    {
     "name": "stdout",
     "output_type": "stream",
     "text": [
      "The sky appears blue due to a phenomenon known as Rayleigh scattering. Here's an explanation of why:\n",
      "\n",
      "1. Sunlight composition: The sunlight that reaches our atmosphere contains all colors of the visible spectrum spectrum, including red, orange, yellow, green, blue, and violet.\n",
      "\n",
      "2. Scattering effect: When light travels through gases in the Earth's atmosphere, it collides with tiny gas molecules (mostly nitrogen and oxygen) as well as particles like dust and water droplets. This collision causes the light to scatter in all directions.\n",
      "\n",
      "3. Rayleigh scattering: As per the Rayleigh scattering theory, shorter wavelength colors (like blue and violet) are scattered more than longer wavelength colors (like red and yellow) due to their higher energy levels. Blue light has a much shorter wavelength compared to other visible colors.\n",
      "\n",
      "4. Scattered rays: The majority of the scattered blue light is in all directions, including downward towards the ground where we can see it. However, some of the blue light also reaches our eyes directly from the Sun as well.\n",
      "\n",
      "5. Scattering intensity: At daytime and during sunlight conditions, there's usually a high concentration of gas molecules at lower atmospheric levels (closer to the observer), which enhances this effect even more.\n",
      "\n",
      "6. Observer position: Our eyes are located near the ground where we look up at the sky for most of our lives, so we're directly in line with all the scattered light coming from the Sun and other areas of blue sky around us.\n",
      "\n",
      "7. Color perception: The human eye is also more sensitive to blue colors compared to others, making it easier for us to perceive the blue color even though there's actually less overall blue light reaching our eyes than red or yellow light.\n",
      "\n",
      "In summary, the dominance of short-wavelength blue light in the atmosphere combined with scattering effects leads to what we see as a blue sky. However, on a clear night when there are no clouds or dust particles present to scatter other colors (like red and orange), the stars appear brighter because they reflect more light that our eyes can perceive without being scattered by the gases in the atmosphere."
     ]
    }
   ],
   "source": [
    "import requests\n",
    "import json\n",
    "req = requests.post(\"http://localhost:11434/api/generate\",json = {\"model\":\"qwen2.5:3b\",\"prompt\":f\"you are a web agent, here is the webpage elements{webpages},now describe how to preform the task{task}\",\"streaming\":True},stream=True)\n",
    "for i in req.iter_lines():\n",
    "    print(json.loads(i.decode(\"utf-8\"))[\"response\"],end = \"\")"
   ]
  },
  {
   "cell_type": "code",
   "execution_count": 1,
   "metadata": {},
   "outputs": [],
   "source": [
    "import tkinter as tk\n",
    "from tkinter import scrolledtext\n",
    "import requests\n",
    "\n",
    "# 后端API地址（假设你有一个大模型API）\n",
    "API_URL = \"http://localhost:11434/api/generate\"\n",
    "\n",
    "def send_message():\n",
    "    user_input = entry.get()\n",
    "    if user_input:\n",
    "        # 清空输入框\n",
    "        entry.delete(0, tk.END)\n",
    "        \n",
    "        # 显示用户输入\n",
    "        chat_box.config(state=tk.NORMAL)\n",
    "        chat_box.insert(tk.END, f\"You: {user_input}\\n\")\n",
    "        chat_box.config(state=tk.DISABLED)\n",
    "        chat_box.yview(tk.END)\n",
    "        \n",
    "        # 发送请求到后端获取大模型回复\n",
    "        response = requests.post(API_URL, json={\"message\": user_input})\n",
    "        \n",
    "        if response.status_code == 200:\n",
    "            model_response = response.json().get(\"response\", \"No response\")\n",
    "        else:\n",
    "            model_response = \"Error: Unable to get response from the server.\"\n",
    "        \n",
    "        # 显示大模型回复\n",
    "        chat_box.config(state=tk.NORMAL)\n",
    "        chat_box.insert(tk.END, f\"Model: {model_response}\\n\\n\")\n",
    "        chat_box.config(state=tk.DISABLED)\n",
    "        chat_box.yview(tk.END)\n",
    "\n",
    "# 创建主窗口\n",
    "root = tk.Tk()\n",
    "root.title(\"大模型对话系统\")\n",
    "\n",
    "# 创建聊天框\n",
    "chat_box = scrolledtext.ScrolledText(root, wrap=tk.WORD, state=tk.DISABLED, width=60, height=20)\n",
    "chat_box.pack(padx=10, pady=10)\n",
    "\n",
    "# 创建输入框\n",
    "entry = tk.Entry(root, width=60)\n",
    "entry.pack(padx=10, pady=10)\n",
    "\n",
    "# 创建发送按钮\n",
    "send_button = tk.Button(root, text=\"发送\", command=send_message)\n",
    "send_button.pack(padx=10, pady=10)\n",
    "\n",
    "# 运行主循环\n",
    "root.mainloop()"
   ]
  },
  {
   "cell_type": "code",
   "execution_count": 2,
   "metadata": {},
   "outputs": [
    {
     "ename": "",
     "evalue": "",
     "output_type": "error",
     "traceback": [
      "\u001b[1;31m在当前单元格或上一个单元格中执行代码时 Kernel 崩溃。\n",
      "\u001b[1;31m请查看单元格中的代码，以确定故障的可能原因。\n",
      "\u001b[1;31m单击<a href='https://aka.ms/vscodeJupyterKernelCrash'>此处</a>了解详细信息。\n",
      "\u001b[1;31m有关更多详细信息，请查看 Jupyter <a href='command:jupyter.viewOutput'>log</a>。"
     ]
    }
   ],
   "source": [
    "import tkinter as tk\n",
    "from tkinter import scrolledtext\n",
    "import requests\n",
    "import threading\n",
    "\n",
    "# 后端API地址（假设你有一个大模型API）\n",
    "API_URL = \"http://localhost:11434/api/generate\"\n",
    "class ChatApp:\n",
    "    def __init__(self, root):\n",
    "        self.root = root\n",
    "        self.root.title(\"大模型对话系统\")\n",
    "\n",
    "        # 创建聊天框\n",
    "        self.chat_box = scrolledtext.ScrolledText(root, wrap=tk.WORD, state=tk.DISABLED, width=60, height=20)\n",
    "        self.chat_box.pack(padx=10, pady=10)\n",
    "\n",
    "        # 创建输入框\n",
    "        self.entry = tk.Entry(root, width=60)\n",
    "        self.entry.pack(padx=10, pady=10)\n",
    "\n",
    "        # 创建发送按钮\n",
    "        self.send_button = tk.Button(root, text=\"发送\", command=self.send_message)\n",
    "        self.send_button.pack(padx=10, pady=10)\n",
    "\n",
    "    def send_message(self):\n",
    "        user_input = self.entry.get()\n",
    "        if user_input:\n",
    "            # 清空输入框\n",
    "            self.entry.delete(0, tk.END)\n",
    "            \n",
    "            # 显示用户输入\n",
    "            self.update_chat_box(f\"You: {user_input}\\n\")\n",
    "            \n",
    "            # 启动一个新线程来处理流式响应\n",
    "            threading.Thread(target=self.get_streamed_response, args=(user_input,)).start()\n",
    "\n",
    "    def get_streamed_response(self, user_input):\n",
    "        final_prompt = user_input  # 假设 final_prompt 就是用户输入\n",
    "        try:\n",
    "            response = requests.post(API_URL, json={\n",
    "                \"model\": \"qwen2.5:3b\",  # \"arcee-ai/arcee-agent\",\n",
    "                \"prompt\": final_prompt,\n",
    "                \"streaming\": True,\n",
    "                \"options\": {\n",
    "                    \"temperature\": 0.5\n",
    "                },\n",
    "            }, stream=True)\n",
    "\n",
    "            if response.status_code == 200:\n",
    "                for chunk in response.iter_content(chunk_size=None):\n",
    "                    if chunk:\n",
    "                        self.update_chat_box(f\"Model: {chunk.decode('utf-8')}\")\n",
    "            else:\n",
    "                self.update_chat_box(\"Error: Unable to get response from the server.\")\n",
    "        except Exception as e:\n",
    "            self.update_chat_box(f\"Error: {str(e)}\")\n",
    "\n",
    "    def update_chat_box(self, text):\n",
    "        self.chat_box.config(state=tk.NORMAL)\n",
    "        self.chat_box.insert(tk.END, text)\n",
    "        self.chat_box.config(state=tk.DISABLED)\n",
    "        self.chat_box.yview(tk.END)\n",
    "\n",
    "# 创建主窗口\n",
    "root = tk.Tk()\n",
    "app = ChatApp(root)\n",
    "\n",
    "# 运行主循环\n",
    "root.mainloop()"
   ]
  }
 ],
 "metadata": {
  "kernelspec": {
   "display_name": "ds190",
   "language": "python",
   "name": "python3"
  },
  "language_info": {
   "codemirror_mode": {
    "name": "ipython",
    "version": 3
   },
   "file_extension": ".py",
   "mimetype": "text/x-python",
   "name": "python",
   "nbconvert_exporter": "python",
   "pygments_lexer": "ipython3",
   "version": "3.9.20"
  }
 },
 "nbformat": 4,
 "nbformat_minor": 2
}
