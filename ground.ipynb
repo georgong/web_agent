{
 "cells": [
  {
   "cell_type": "markdown",
   "metadata": {},
   "source": [
    "# Web Reader Test"
   ]
  },
  {
   "cell_type": "code",
   "execution_count": 17,
   "metadata": {},
   "outputs": [
    {
     "name": "stdout",
     "output_type": "stream",
     "text": [
      "reading...\n",
      "No element found for XPath: /html/body/noscript[2]/img\n",
      "No element found for XPath: /html/body/noscript[3]/img\n"
     ]
    },
    {
     "data": {
      "text/plain": [
       "[\"{'id': 0, 'type': 'link', 'link': '/index.html', 'innertext': 'Navigate Back to Home'}\",\n",
       " \"{'id': 1, 'type': 'img', 'innertext': 'UC San Diego'}\",\n",
       " \"{'id': 5, 'type': 'button'}\",\n",
       " \"{'id': 6, 'type': 'img', 'innertext': 'search-icon'}\",\n",
       " \"{'id': 7, 'type': 'link', 'link': 'https://giving.ucsd.edu/', 'innertext': 'Give to UC San Diego'}\",\n",
       " \"{'id': 8, 'type': 'link', 'link': 'https://admission.universityofcalifornia.edu/how-to-apply/apply-online/', 'innertext': 'Apply to UC San Diego'}\",\n",
       " \"{'id': 10, 'type': 'input'}\",\n",
       " \"{'id': 11, 'type': 'link', 'link': '#', 'innertext': 'Toggle navigation'}\",\n",
       " \"{'id': 86, 'type': 'link', 'link': 'https://ucsd.edu/about/index.html', 'innertext': 'About'}\",\n",
       " \"{'id': 87, 'type': 'link', 'link': '/about/visiting-tours/index.html', 'innertext': 'Visiting & Tours'}\",\n",
       " \"{'id': 88, 'type': 'link', 'link': 'https://today.ucsd.edu/', 'innertext': 'News'}\",\n",
       " \"{'id': 89, 'type': 'link', 'link': 'https://employment.ucsd.edu/', 'innertext': 'Jobs at UC\\\\xa0San\\\\xa0Diego'}\",\n",
       " \"{'id': 90, 'type': 'link', 'link': 'https://chancellor.ucsd.edu/', 'innertext': 'Office of the Chancellor'}\",\n",
       " \"{'id': 91, 'type': 'link', 'link': 'https://health.ucsd.edu/', 'innertext': 'UC San Diego Health'}\",\n",
       " \"{'id': 92, 'type': 'link', 'link': 'https://ucsd.edu/about/economic-impact-report.html', 'innertext': 'Economic Impact Report'}\",\n",
       " \"{'id': 93, 'type': 'link', 'link': 'https://mobile.ucsd.edu/', 'innertext': 'Campus Mobile Apps'}\",\n",
       " \"{'id': 94, 'type': 'link', 'link': 'https://ucsd.edu/academics/', 'innertext': 'Academics'}\",\n",
       " \"{'id': 95, 'type': 'button', 'innertext': 'Toggle Academics submenu'}\",\n",
       " \"{'id': 96, 'type': 'link', 'link': 'https://students.ucsd.edu', 'innertext': 'TritonLink'}\",\n",
       " \"{'id': 97, 'type': 'link', 'link': 'academics/undergraduate-degrees.html', 'innertext': 'Undergraduate Degrees'}\",\n",
       " \"{'id': 98, 'type': 'link', 'link': 'https://grad.ucsd.edu/admissions/programs.html', 'innertext': 'Graduate Degrees & Programs'}\",\n",
       " \"{'id': 99, 'type': 'link', 'link': 'https://admissions.ucsd.edu/why/colleges/index.html', 'innertext': 'Colleges'}\",\n",
       " \"{'id': 100, 'type': 'link', 'link': 'https://ucsd.edu/academics/academic-success.html', 'innertext': 'Student Academic Success'}\",\n",
       " \"{'id': 101, 'type': 'link', 'link': 'https://digitallearning.ucsd.edu/', 'innertext': 'Digital Learning'}\",\n",
       " \"{'id': 102, 'type': 'link', 'link': 'https://extendedstudies.ucsd.edu/', 'innertext': 'Extended Studies'}\",\n",
       " \"{'id': 103, 'type': 'link', 'link': 'https://library.ucsd.edu/', 'innertext': 'Library'}\",\n",
       " \"{'id': 104, 'type': 'link', 'link': 'https://ucsd.edu/admissions-aid/index.html', 'innertext': 'Admissionsand\\\\xa0Aid'}\",\n",
       " \"{'id': 105, 'type': 'button', 'innertext': 'Toggle Admissions menu'}\",\n",
       " \"{'id': 106, 'type': 'link', 'link': 'https://admissions.ucsd.edu/freshman/', 'innertext': 'First-Year Admissions'}\",\n",
       " \"{'id': 107, 'type': 'link', 'link': 'https://admissions.ucsd.edu/transfer/', 'innertext': 'Transfer Admissions'}\",\n",
       " \"{'id': 108, 'type': 'link', 'link': 'https://grad.ucsd.edu/admissions/', 'innertext': 'Graduate Admissions'}\",\n",
       " \"{'id': 109, 'type': 'link', 'link': 'https://medschool.ucsd.edu/admissions/pages/default.aspx', 'innertext': 'School of Medicine'}\",\n",
       " \"{'id': 110, 'type': 'link', 'link': 'https://pharmacy.ucsd.edu/admissions/admissions-general-information?_ga=2.30262271.1964092055.1569959880-2067626670.1569959880', 'innertext': 'Skaggs School of Pharmacy'}\",\n",
       " \"{'id': 111, 'type': 'link', 'link': 'https://fas.ucsd.edu/', 'innertext': 'Financial Aid'}\",\n",
       " \"{'id': 112, 'type': 'link', 'link': 'https://students.ucsd.edu/well-being/wellness-resources/student-parents/', 'innertext': 'Student Parent Resources'}\",\n",
       " \"{'id': 113, 'type': 'link', 'link': 'https://ucsd.edu/arts/index.html', 'innertext': 'Arts'}\",\n",
       " \"{'id': 114, 'type': 'button', 'innertext': 'Toggle Arts submenu'}\",\n",
       " \"{'id': 115, 'type': 'link', 'link': 'https://ucsd.edu/arts/teaching-and-research/index.html', 'innertext': 'Teaching and Research'}\",\n",
       " \"{'id': 116, 'type': 'link', 'link': 'https://ucsd.edu/arts/visual-arts/index.html', 'innertext': 'Visual Arts'}\",\n",
       " \"{'id': 117, 'type': 'link', 'link': 'https://ucsd.edu/arts/performing-arts/index.html', 'innertext': 'Performing Arts'}\",\n",
       " \"{'id': 118, 'type': 'link', 'link': 'https://ucsd.edu/research-innovation/index.html', 'innertext': 'Researchand\\\\xa0Innovation'}\",\n",
       " \"{'id': 119, 'type': 'button', 'innertext': 'Toggle Research menu'}\",\n",
       " \"{'id': 120, 'type': 'link', 'link': 'https://ucsd.edu/research-innovation/artificial-intelligence.html', 'innertext': 'Artificial Intelligence'}\",\n",
       " \"{'id': 121, 'type': 'link', 'link': 'https://ucsd.edu/research-innovation/climate-change.html', 'innertext': 'Climate Change'}\",\n",
       " \"{'id': 122, 'type': 'link', 'link': 'https://ucsd.edu/research-innovation/research-areas/health-innovation/index.html', 'innertext': 'Health Innovation'}\",\n",
       " \"{'id': 123, 'type': 'link', 'link': 'https://ucsd.edu/research-innovation/student-opportunities.html', 'innertext': 'Student Opportunities'}\",\n",
       " \"{'id': 124, 'type': 'link', 'link': 'https://ucsd.edu/student-life/index.html', 'innertext': 'Student Life'}\",\n",
       " \"{'id': 125, 'type': 'button', 'innertext': 'Toggle Student Life menu'}\",\n",
       " \"{'id': 126, 'type': 'link', 'link': 'https://ucsd.edu/student-life/organizations/index.html', 'innertext': 'Organizations'}\",\n",
       " \"{'id': 127, 'type': 'link', 'link': 'https://ucsd.edu/student-life/diversity/index.html', 'innertext': 'Diversity'}\",\n",
       " \"{'id': 128, 'type': 'link', 'link': 'https://calendar.ucsd.edu/', 'innertext': 'Events'}\",\n",
       " \"{'id': 129, 'type': 'link', 'link': 'https://ucsd.edu/student-life/student-support.html', 'innertext': 'Student Support'}\",\n",
       " \"{'id': 130, 'type': 'link', 'link': 'https://studyabroad.ucsd.edu/', 'innertext': 'Study Abroad'}\",\n",
       " \"{'id': 131, 'type': 'link', 'link': 'https://career.ucsd.edu/', 'innertext': 'Career & Internship'}\",\n",
       " \"{'id': 132, 'type': 'link', 'link': 'https://ucsdtritons.com', 'innertext': 'Athletics'}\",\n",
       " \"{'id': 133, 'type': 'link', 'link': 'https://ucsd.edu/support/index.html', 'innertext': 'SupportUC\\\\xa0San\\\\xa0Diego'}\",\n",
       " \"{'id': 134, 'type': 'button', 'innertext': 'Toggle Support menu'}\",\n",
       " \"{'id': 135, 'type': 'link', 'link': 'https://alumni.ucsd.edu/', 'innertext': 'Alumni'}\",\n",
       " \"{'id': 136, 'type': 'link', 'link': 'https://giving.ucsd.edu/', 'innertext': 'Giving'}\",\n",
       " \"{'id': 137, 'type': 'link', 'link': 'https://foundation.ucsd.edu/', 'innertext': 'Foundation'}\",\n",
       " \"{'id': 138, 'type': 'link', 'link': 'https://advancement.ucsd.edu', 'innertext': 'Advancement'}\",\n",
       " \"{'id': 139, 'type': 'img', 'innertext': 'Geisel Library at sunset'}\",\n",
       " \"{'id': 140, 'type': 'link', 'link': 'https://today.ucsd.edu/story/uc-san-diego-ranks-9th-in-the-world-for-most-influential-researchers', 'innertext': 'Learn more about the Clarivate rankings', 'role': 'button'}\",\n",
       " \"{'id': 141, 'type': 'img', 'innertext': 'Triton basketball player shoots ball at rim'}\",\n",
       " \"{'id': 142, 'type': 'img', 'innertext': ''}\",\n",
       " \"{'id': 144, 'type': 'link', 'link': 'https://admission.universityofcalifornia.edu/how-to-apply/apply-online/', 'innertext': 'apply now'}\"]"
      ]
     },
     "execution_count": 17,
     "metadata": {},
     "output_type": "execute_result"
    }
   ],
   "source": [
    "from web_reader import web_reader\n",
    "from prompting import generate_elements_prompt\n",
    "account_setting = {\"user-data-dir\":\"path1\",\n",
    "\"--profile-directory\":\"path2\"}\n",
    "web_reader = web_reader(\"https://ucsd.edu\")\n",
    "generate_elements_prompt(web_reader.read()[0])[1]"
   ]
  },
  {
   "cell_type": "markdown",
   "metadata": {},
   "source": [
    "# Markdown: generate functions description test"
   ]
  },
  {
   "cell_type": "code",
   "execution_count": null,
   "metadata": {},
   "outputs": [],
   "source": [
    "from prompting import generate_functions_descriptions,function_data\n",
    "print(generate_functions_descriptions(function_data))"
   ]
  },
  {
   "cell_type": "markdown",
   "metadata": {},
   "source": [
    "# Plan generating Test"
   ]
  },
  {
   "cell_type": "code",
   "execution_count": null,
   "metadata": {},
   "outputs": [],
   "source": [
    "from prompting import plan_prompt\n",
    "import requests\n",
    "import json\n",
    "url = \"http://localhost:11434/api/generate\"\n",
    "model = 'qwen2.5:3b'\n",
    "final_prompt = plan_prompt + \"you start from current_url:https://google.com \\n Your task:Open ucsd.edu\"\n",
    "response = requests.post(url, json={\n",
    "                \"model\": model,\n",
    "                \"prompt\": final_prompt,\n",
    "                \"streaming\": False,\n",
    "                \"options\": {\n",
    "                    \"temperature\": 0.5\n",
    "                },\n",
    "            }, stream=False)\n",
    "for i in response.iter_lines():\n",
    "    print(json.loads(i.decode('utf-8'))[\"response\"]\n",
    "        ,end = \"\")\n"
   ]
  },
  {
   "cell_type": "code",
   "execution_count": 2,
   "metadata": {},
   "outputs": [
    {
     "ename": "SessionNotCreatedException",
     "evalue": "Message: session not created\nfrom unknown error: cannot create default profile directory\nStacktrace:\n\tGetHandleVerifier [0x00007FF713706CB5+28821]\n\t(No symbol) [0x00007FF713673840]\n\t(No symbol) [0x00007FF71351578A]\n\t(No symbol) [0x00007FF713555249]\n\t(No symbol) [0x00007FF71354E5CA]\n\t(No symbol) [0x00007FF71354BAC9]\n\t(No symbol) [0x00007FF71359A4FA]\n\t(No symbol) [0x00007FF713599B30]\n\t(No symbol) [0x00007FF71358F0A3]\n\t(No symbol) [0x00007FF71355A778]\n\t(No symbol) [0x00007FF71355B8E1]\n\tGetHandleVerifier [0x00007FF713A3FCAD+3408013]\n\tGetHandleVerifier [0x00007FF713A5741F+3504127]\n\tGetHandleVerifier [0x00007FF713A4B5FD+3455453]\n\tGetHandleVerifier [0x00007FF7137CBDBB+835995]\n\t(No symbol) [0x00007FF71367EB5F]\n\t(No symbol) [0x00007FF71367A814]\n\t(No symbol) [0x00007FF71367A9AD]\n\t(No symbol) [0x00007FF71366A199]\n\tBaseThreadInitThunk [0x00007FF8B489259D+29]\n\tRtlUserThreadStart [0x00007FF8B514AF38+40]\n",
     "output_type": "error",
     "traceback": [
      "\u001b[1;31m---------------------------------------------------------------------------\u001b[0m",
      "\u001b[1;31mSessionNotCreatedException\u001b[0m                Traceback (most recent call last)",
      "Cell \u001b[1;32mIn[2], line 7\u001b[0m\n\u001b[0;32m      4\u001b[0m \u001b[38;5;28;01mfrom\u001b[39;00m \u001b[38;5;21;01mweb_reader\u001b[39;00m \u001b[38;5;28;01mimport\u001b[39;00m web_reader\n\u001b[0;32m      5\u001b[0m account_setting \u001b[38;5;241m=\u001b[39m {\u001b[38;5;124m\"\u001b[39m\u001b[38;5;124muser-data-dir\u001b[39m\u001b[38;5;124m\"\u001b[39m:\u001b[38;5;124m\"\u001b[39m\u001b[38;5;124m/Users/gongzhenghao/Desktop/Google_copy\u001b[39m\u001b[38;5;124m\"\u001b[39m,\n\u001b[0;32m      6\u001b[0m \u001b[38;5;124m\"\u001b[39m\u001b[38;5;124m--profile-directory\u001b[39m\u001b[38;5;124m\"\u001b[39m:\u001b[38;5;124m\"\u001b[39m\u001b[38;5;124mProfile 3\u001b[39m\u001b[38;5;124m\"\u001b[39m}\n\u001b[1;32m----> 7\u001b[0m web_reader \u001b[38;5;241m=\u001b[39m \u001b[43mweb_reader\u001b[49m\u001b[43m(\u001b[49m\u001b[38;5;124;43m\"\u001b[39;49m\u001b[38;5;124;43mhttps://google.com\u001b[39;49m\u001b[38;5;124;43m\"\u001b[39;49m\u001b[43m,\u001b[49m\u001b[43maccount_setting\u001b[49m\u001b[38;5;241;43m=\u001b[39;49m\u001b[43m \u001b[49m\u001b[43maccount_setting\u001b[49m\u001b[43m)\u001b[49m\n\u001b[0;32m      8\u001b[0m str1,record \u001b[38;5;241m=\u001b[39m generate_elements_prompt(web_reader\u001b[38;5;241m.\u001b[39mread()[\u001b[38;5;241m0\u001b[39m])\n\u001b[0;32m      9\u001b[0m str2\u001b[38;5;241m=\u001b[39m web_reader\u001b[38;5;241m.\u001b[39mread()[\u001b[38;5;241m2\u001b[39m]\n",
      "File \u001b[1;32mc:\\Users\\georg\\repo\\web_agent\\web_reader\\__init__.py:68\u001b[0m, in \u001b[0;36mweb_reader.__init__\u001b[1;34m(self, init_webset, function_list, account_setting)\u001b[0m\n\u001b[0;32m     66\u001b[0m     option\u001b[38;5;241m.\u001b[39madd_argument(\u001b[38;5;124mf\u001b[39m\u001b[38;5;124m\"\u001b[39m\u001b[38;5;124m--profile-directory=\u001b[39m\u001b[38;5;132;01m{\u001b[39;00maccount_setting[\u001b[38;5;124m'\u001b[39m\u001b[38;5;124m--profile-directory\u001b[39m\u001b[38;5;124m'\u001b[39m]\u001b[38;5;132;01m}\u001b[39;00m\u001b[38;5;124m\"\u001b[39m)\n\u001b[0;32m     67\u001b[0m option\u001b[38;5;241m.\u001b[39madd_experimental_option(\u001b[38;5;124m\"\u001b[39m\u001b[38;5;124mexcludeSwitches\u001b[39m\u001b[38;5;124m\"\u001b[39m, [\u001b[38;5;124m\"\u001b[39m\u001b[38;5;124menable-automation\u001b[39m\u001b[38;5;124m\"\u001b[39m])\n\u001b[1;32m---> 68\u001b[0m \u001b[38;5;28mself\u001b[39m\u001b[38;5;241m.\u001b[39mdriver \u001b[38;5;241m=\u001b[39m \u001b[43mwebdriver\u001b[49m\u001b[38;5;241;43m.\u001b[39;49m\u001b[43mChrome\u001b[49m\u001b[43m(\u001b[49m\u001b[43moptions\u001b[49m\u001b[38;5;241;43m=\u001b[39;49m\u001b[43moption\u001b[49m\u001b[43m)\u001b[49m\n\u001b[0;32m     69\u001b[0m \u001b[38;5;28mself\u001b[39m\u001b[38;5;241m.\u001b[39mdriver\u001b[38;5;241m.\u001b[39mget(init_webset)\n\u001b[0;32m     70\u001b[0m \u001b[38;5;28mself\u001b[39m\u001b[38;5;241m.\u001b[39mdevice_pixel_ratio \u001b[38;5;241m=\u001b[39m \u001b[38;5;28mself\u001b[39m\u001b[38;5;241m.\u001b[39mdriver\u001b[38;5;241m.\u001b[39mexecute_script(\u001b[38;5;124m\"\u001b[39m\u001b[38;5;124mreturn window.devicePixelRatio\u001b[39m\u001b[38;5;124m\"\u001b[39m)\n",
      "File \u001b[1;32mc:\\Users\\georg\\anaconda3\\envs\\webagent\\lib\\site-packages\\selenium\\webdriver\\chrome\\webdriver.py:45\u001b[0m, in \u001b[0;36mWebDriver.__init__\u001b[1;34m(self, options, service, keep_alive)\u001b[0m\n\u001b[0;32m     42\u001b[0m service \u001b[38;5;241m=\u001b[39m service \u001b[38;5;28;01mif\u001b[39;00m service \u001b[38;5;28;01melse\u001b[39;00m Service()\n\u001b[0;32m     43\u001b[0m options \u001b[38;5;241m=\u001b[39m options \u001b[38;5;28;01mif\u001b[39;00m options \u001b[38;5;28;01melse\u001b[39;00m Options()\n\u001b[1;32m---> 45\u001b[0m \u001b[38;5;28;43msuper\u001b[39;49m\u001b[43m(\u001b[49m\u001b[43m)\u001b[49m\u001b[38;5;241;43m.\u001b[39;49m\u001b[38;5;21;43m__init__\u001b[39;49m\u001b[43m(\u001b[49m\n\u001b[0;32m     46\u001b[0m \u001b[43m    \u001b[49m\u001b[43mbrowser_name\u001b[49m\u001b[38;5;241;43m=\u001b[39;49m\u001b[43mDesiredCapabilities\u001b[49m\u001b[38;5;241;43m.\u001b[39;49m\u001b[43mCHROME\u001b[49m\u001b[43m[\u001b[49m\u001b[38;5;124;43m\"\u001b[39;49m\u001b[38;5;124;43mbrowserName\u001b[39;49m\u001b[38;5;124;43m\"\u001b[39;49m\u001b[43m]\u001b[49m\u001b[43m,\u001b[49m\n\u001b[0;32m     47\u001b[0m \u001b[43m    \u001b[49m\u001b[43mvendor_prefix\u001b[49m\u001b[38;5;241;43m=\u001b[39;49m\u001b[38;5;124;43m\"\u001b[39;49m\u001b[38;5;124;43mgoog\u001b[39;49m\u001b[38;5;124;43m\"\u001b[39;49m\u001b[43m,\u001b[49m\n\u001b[0;32m     48\u001b[0m \u001b[43m    \u001b[49m\u001b[43moptions\u001b[49m\u001b[38;5;241;43m=\u001b[39;49m\u001b[43moptions\u001b[49m\u001b[43m,\u001b[49m\n\u001b[0;32m     49\u001b[0m \u001b[43m    \u001b[49m\u001b[43mservice\u001b[49m\u001b[38;5;241;43m=\u001b[39;49m\u001b[43mservice\u001b[49m\u001b[43m,\u001b[49m\n\u001b[0;32m     50\u001b[0m \u001b[43m    \u001b[49m\u001b[43mkeep_alive\u001b[49m\u001b[38;5;241;43m=\u001b[39;49m\u001b[43mkeep_alive\u001b[49m\u001b[43m,\u001b[49m\n\u001b[0;32m     51\u001b[0m \u001b[43m\u001b[49m\u001b[43m)\u001b[49m\n",
      "File \u001b[1;32mc:\\Users\\georg\\anaconda3\\envs\\webagent\\lib\\site-packages\\selenium\\webdriver\\chromium\\webdriver.py:66\u001b[0m, in \u001b[0;36mChromiumDriver.__init__\u001b[1;34m(self, browser_name, vendor_prefix, options, service, keep_alive)\u001b[0m\n\u001b[0;32m     57\u001b[0m executor \u001b[38;5;241m=\u001b[39m ChromiumRemoteConnection(\n\u001b[0;32m     58\u001b[0m     remote_server_addr\u001b[38;5;241m=\u001b[39m\u001b[38;5;28mself\u001b[39m\u001b[38;5;241m.\u001b[39mservice\u001b[38;5;241m.\u001b[39mservice_url,\n\u001b[0;32m     59\u001b[0m     browser_name\u001b[38;5;241m=\u001b[39mbrowser_name,\n\u001b[1;32m   (...)\u001b[0m\n\u001b[0;32m     62\u001b[0m     ignore_proxy\u001b[38;5;241m=\u001b[39moptions\u001b[38;5;241m.\u001b[39m_ignore_local_proxy,\n\u001b[0;32m     63\u001b[0m )\n\u001b[0;32m     65\u001b[0m \u001b[38;5;28;01mtry\u001b[39;00m:\n\u001b[1;32m---> 66\u001b[0m     \u001b[38;5;28;43msuper\u001b[39;49m\u001b[43m(\u001b[49m\u001b[43m)\u001b[49m\u001b[38;5;241;43m.\u001b[39;49m\u001b[38;5;21;43m__init__\u001b[39;49m\u001b[43m(\u001b[49m\u001b[43mcommand_executor\u001b[49m\u001b[38;5;241;43m=\u001b[39;49m\u001b[43mexecutor\u001b[49m\u001b[43m,\u001b[49m\u001b[43m \u001b[49m\u001b[43moptions\u001b[49m\u001b[38;5;241;43m=\u001b[39;49m\u001b[43moptions\u001b[49m\u001b[43m)\u001b[49m\n\u001b[0;32m     67\u001b[0m \u001b[38;5;28;01mexcept\u001b[39;00m \u001b[38;5;167;01mException\u001b[39;00m:\n\u001b[0;32m     68\u001b[0m     \u001b[38;5;28mself\u001b[39m\u001b[38;5;241m.\u001b[39mquit()\n",
      "File \u001b[1;32mc:\\Users\\georg\\anaconda3\\envs\\webagent\\lib\\site-packages\\selenium\\webdriver\\remote\\webdriver.py:238\u001b[0m, in \u001b[0;36mWebDriver.__init__\u001b[1;34m(self, command_executor, keep_alive, file_detector, options, locator_converter, web_element_cls, client_config)\u001b[0m\n\u001b[0;32m    236\u001b[0m \u001b[38;5;28mself\u001b[39m\u001b[38;5;241m.\u001b[39m_authenticator_id \u001b[38;5;241m=\u001b[39m \u001b[38;5;28;01mNone\u001b[39;00m\n\u001b[0;32m    237\u001b[0m \u001b[38;5;28mself\u001b[39m\u001b[38;5;241m.\u001b[39mstart_client()\n\u001b[1;32m--> 238\u001b[0m \u001b[38;5;28;43mself\u001b[39;49m\u001b[38;5;241;43m.\u001b[39;49m\u001b[43mstart_session\u001b[49m\u001b[43m(\u001b[49m\u001b[43mcapabilities\u001b[49m\u001b[43m)\u001b[49m\n\u001b[0;32m    240\u001b[0m \u001b[38;5;28mself\u001b[39m\u001b[38;5;241m.\u001b[39m_websocket_connection \u001b[38;5;241m=\u001b[39m \u001b[38;5;28;01mNone\u001b[39;00m\n\u001b[0;32m    241\u001b[0m \u001b[38;5;28mself\u001b[39m\u001b[38;5;241m.\u001b[39m_script \u001b[38;5;241m=\u001b[39m \u001b[38;5;28;01mNone\u001b[39;00m\n",
      "File \u001b[1;32mc:\\Users\\georg\\anaconda3\\envs\\webagent\\lib\\site-packages\\selenium\\webdriver\\remote\\webdriver.py:325\u001b[0m, in \u001b[0;36mWebDriver.start_session\u001b[1;34m(self, capabilities)\u001b[0m\n\u001b[0;32m    318\u001b[0m \u001b[38;5;250m\u001b[39m\u001b[38;5;124;03m\"\"\"Creates a new session with the desired capabilities.\u001b[39;00m\n\u001b[0;32m    319\u001b[0m \n\u001b[0;32m    320\u001b[0m \u001b[38;5;124;03m:Args:\u001b[39;00m\n\u001b[0;32m    321\u001b[0m \u001b[38;5;124;03m - capabilities - a capabilities dict to start the session with.\u001b[39;00m\n\u001b[0;32m    322\u001b[0m \u001b[38;5;124;03m\"\"\"\u001b[39;00m\n\u001b[0;32m    324\u001b[0m caps \u001b[38;5;241m=\u001b[39m _create_caps(capabilities)\n\u001b[1;32m--> 325\u001b[0m response \u001b[38;5;241m=\u001b[39m \u001b[38;5;28;43mself\u001b[39;49m\u001b[38;5;241;43m.\u001b[39;49m\u001b[43mexecute\u001b[49m\u001b[43m(\u001b[49m\u001b[43mCommand\u001b[49m\u001b[38;5;241;43m.\u001b[39;49m\u001b[43mNEW_SESSION\u001b[49m\u001b[43m,\u001b[49m\u001b[43m \u001b[49m\u001b[43mcaps\u001b[49m\u001b[43m)\u001b[49m[\u001b[38;5;124m\"\u001b[39m\u001b[38;5;124mvalue\u001b[39m\u001b[38;5;124m\"\u001b[39m]\n\u001b[0;32m    326\u001b[0m \u001b[38;5;28mself\u001b[39m\u001b[38;5;241m.\u001b[39msession_id \u001b[38;5;241m=\u001b[39m response\u001b[38;5;241m.\u001b[39mget(\u001b[38;5;124m\"\u001b[39m\u001b[38;5;124msessionId\u001b[39m\u001b[38;5;124m\"\u001b[39m)\n\u001b[0;32m    327\u001b[0m \u001b[38;5;28mself\u001b[39m\u001b[38;5;241m.\u001b[39mcaps \u001b[38;5;241m=\u001b[39m response\u001b[38;5;241m.\u001b[39mget(\u001b[38;5;124m\"\u001b[39m\u001b[38;5;124mcapabilities\u001b[39m\u001b[38;5;124m\"\u001b[39m)\n",
      "File \u001b[1;32mc:\\Users\\georg\\anaconda3\\envs\\webagent\\lib\\site-packages\\selenium\\webdriver\\remote\\webdriver.py:380\u001b[0m, in \u001b[0;36mWebDriver.execute\u001b[1;34m(self, driver_command, params)\u001b[0m\n\u001b[0;32m    378\u001b[0m response \u001b[38;5;241m=\u001b[39m \u001b[38;5;28mself\u001b[39m\u001b[38;5;241m.\u001b[39mcommand_executor\u001b[38;5;241m.\u001b[39mexecute(driver_command, params)\n\u001b[0;32m    379\u001b[0m \u001b[38;5;28;01mif\u001b[39;00m response:\n\u001b[1;32m--> 380\u001b[0m     \u001b[38;5;28;43mself\u001b[39;49m\u001b[38;5;241;43m.\u001b[39;49m\u001b[43merror_handler\u001b[49m\u001b[38;5;241;43m.\u001b[39;49m\u001b[43mcheck_response\u001b[49m\u001b[43m(\u001b[49m\u001b[43mresponse\u001b[49m\u001b[43m)\u001b[49m\n\u001b[0;32m    381\u001b[0m     response[\u001b[38;5;124m\"\u001b[39m\u001b[38;5;124mvalue\u001b[39m\u001b[38;5;124m\"\u001b[39m] \u001b[38;5;241m=\u001b[39m \u001b[38;5;28mself\u001b[39m\u001b[38;5;241m.\u001b[39m_unwrap_value(response\u001b[38;5;241m.\u001b[39mget(\u001b[38;5;124m\"\u001b[39m\u001b[38;5;124mvalue\u001b[39m\u001b[38;5;124m\"\u001b[39m, \u001b[38;5;28;01mNone\u001b[39;00m))\n\u001b[0;32m    382\u001b[0m     \u001b[38;5;28;01mreturn\u001b[39;00m response\n",
      "File \u001b[1;32mc:\\Users\\georg\\anaconda3\\envs\\webagent\\lib\\site-packages\\selenium\\webdriver\\remote\\errorhandler.py:229\u001b[0m, in \u001b[0;36mErrorHandler.check_response\u001b[1;34m(self, response)\u001b[0m\n\u001b[0;32m    227\u001b[0m         alert_text \u001b[38;5;241m=\u001b[39m value[\u001b[38;5;124m\"\u001b[39m\u001b[38;5;124malert\u001b[39m\u001b[38;5;124m\"\u001b[39m]\u001b[38;5;241m.\u001b[39mget(\u001b[38;5;124m\"\u001b[39m\u001b[38;5;124mtext\u001b[39m\u001b[38;5;124m\"\u001b[39m)\n\u001b[0;32m    228\u001b[0m     \u001b[38;5;28;01mraise\u001b[39;00m exception_class(message, screen, stacktrace, alert_text)  \u001b[38;5;66;03m# type: ignore[call-arg]  # mypy is not smart enough here\u001b[39;00m\n\u001b[1;32m--> 229\u001b[0m \u001b[38;5;28;01mraise\u001b[39;00m exception_class(message, screen, stacktrace)\n",
      "\u001b[1;31mSessionNotCreatedException\u001b[0m: Message: session not created\nfrom unknown error: cannot create default profile directory\nStacktrace:\n\tGetHandleVerifier [0x00007FF713706CB5+28821]\n\t(No symbol) [0x00007FF713673840]\n\t(No symbol) [0x00007FF71351578A]\n\t(No symbol) [0x00007FF713555249]\n\t(No symbol) [0x00007FF71354E5CA]\n\t(No symbol) [0x00007FF71354BAC9]\n\t(No symbol) [0x00007FF71359A4FA]\n\t(No symbol) [0x00007FF713599B30]\n\t(No symbol) [0x00007FF71358F0A3]\n\t(No symbol) [0x00007FF71355A778]\n\t(No symbol) [0x00007FF71355B8E1]\n\tGetHandleVerifier [0x00007FF713A3FCAD+3408013]\n\tGetHandleVerifier [0x00007FF713A5741F+3504127]\n\tGetHandleVerifier [0x00007FF713A4B5FD+3455453]\n\tGetHandleVerifier [0x00007FF7137CBDBB+835995]\n\t(No symbol) [0x00007FF71367EB5F]\n\t(No symbol) [0x00007FF71367A814]\n\t(No symbol) [0x00007FF71367A9AD]\n\t(No symbol) [0x00007FF71366A199]\n\tBaseThreadInitThunk [0x00007FF8B489259D+29]\n\tRtlUserThreadStart [0x00007FF8B514AF38+40]\n"
     ]
    }
   ],
   "source": [
    "from prompting import plan_prompt,generate_elements_prompt\n",
    "import requests\n",
    "import json\n",
    "from web_reader import web_reader\n",
    "account_setting = {\"user-data-dir\":\"/Users/gongzhenghao/Desktop/Google_copy\",\n",
    "\"--profile-directory\":\"Profile 3\"}\n",
    "web_reader = web_reader(\"https://google.com\",account_setting= account_setting)\n",
    "str1,record = generate_elements_prompt(web_reader.read()[0])\n",
    "str2= web_reader.read()[2]"
   ]
  },
  {
   "cell_type": "code",
   "execution_count": null,
   "metadata": {},
   "outputs": [],
   "source": [
    "from prompting import plan_prompt,summary_prompt,summerization\n",
    "import requests\n",
    "import json\n",
    "from web_reader import web_reader\n",
    "account_setting = {\"user-data-dir\":\"/Users/gongzhenghao/Desktop/Google_copy\",\n",
    "\"--profile-directory\":\"Profile 3\"}\n",
    "\n",
    "url = \"http://localhost:11434/api/generate\"\n",
    "model = 'qwen2.5:3b'\n",
    "\n",
    "# final_prompt = summary_prompt.replace(\"{web_content}\",str1).replace(\"{text}\",str2) + \"\"\n",
    "# response = requests.post(url, json={\n",
    "#                 \"model\": model,\n",
    "#                 \"prompt\": final_prompt,\n",
    "#                 \"streaming\": False,\n",
    "#                 \"options\": {\n",
    "#                     \"temperature\": 0.5\n",
    "#                 },\n",
    "#             }, stream=False)\n",
    "# result = \"\"\n",
    "# for i in response.iter_lines():\n",
    "#     result += json.loads(i.decode('utf-8'))[\"response\"]\n",
    "summerization(str1,str2,url,model)"
   ]
  },
  {
   "cell_type": "code",
   "execution_count": 1,
   "metadata": {},
   "outputs": [
    {
     "name": "stdout",
     "output_type": "stream",
     "text": [
      "reading...\n",
      "Error: No element found for XPath: /html/body/noscript/div/a\n",
      "reading...\n",
      "Error: No element found for XPath: /html/body/noscript/div/a\n"
     ]
    },
    {
     "ename": "KeyboardInterrupt",
     "evalue": "",
     "output_type": "error",
     "traceback": [
      "\u001b[1;31m---------------------------------------------------------------------------\u001b[0m",
      "\u001b[1;31mKeyboardInterrupt\u001b[0m                         Traceback (most recent call last)",
      "Cell \u001b[1;32mIn[1], line 15\u001b[0m\n\u001b[0;32m     13\u001b[0m web_reader \u001b[38;5;241m=\u001b[39m web_reader(url)\n\u001b[0;32m     14\u001b[0m str1,record \u001b[38;5;241m=\u001b[39m generate_elements_prompt(web_reader\u001b[38;5;241m.\u001b[39mread()[\u001b[38;5;241m0\u001b[39m])\n\u001b[1;32m---> 15\u001b[0m str2\u001b[38;5;241m=\u001b[39m \u001b[43mweb_reader\u001b[49m\u001b[38;5;241;43m.\u001b[39;49m\u001b[43mread\u001b[49m\u001b[43m(\u001b[49m\u001b[43m)\u001b[49m[\u001b[38;5;241m2\u001b[39m]\n\u001b[0;32m     16\u001b[0m \u001b[38;5;28mprint\u001b[39m(\u001b[38;5;28mlen\u001b[39m(record))\n\u001b[0;32m     17\u001b[0m total_result \u001b[38;5;241m=\u001b[39m []\n",
      "File \u001b[1;32mc:\\Users\\georg\\repo\\web_agent\\web_reader\\__init__.py:112\u001b[0m, in \u001b[0;36mweb_reader.read\u001b[1;34m(self, visualize)\u001b[0m\n\u001b[0;32m    109\u001b[0m xpath \u001b[38;5;241m=\u001b[39m get_xpath(element)\n\u001b[0;32m    110\u001b[0m \u001b[38;5;28;01mtry\u001b[39;00m:\n\u001b[0;32m    111\u001b[0m     \u001b[38;5;66;03m# 使用 Selenium 定位元素\u001b[39;00m\n\u001b[1;32m--> 112\u001b[0m     selenium_element \u001b[38;5;241m=\u001b[39m \u001b[38;5;28;43mself\u001b[39;49m\u001b[38;5;241;43m.\u001b[39;49m\u001b[43mdriver\u001b[49m\u001b[38;5;241;43m.\u001b[39;49m\u001b[43mfind_element\u001b[49m\u001b[43m(\u001b[49m\u001b[43mBy\u001b[49m\u001b[38;5;241;43m.\u001b[39;49m\u001b[43mXPATH\u001b[49m\u001b[43m,\u001b[49m\u001b[43m \u001b[49m\u001b[43mxpath\u001b[49m\u001b[43m)\u001b[49m\n\u001b[0;32m    113\u001b[0m     location \u001b[38;5;241m=\u001b[39m selenium_element\u001b[38;5;241m.\u001b[39mlocation\n\u001b[0;32m    114\u001b[0m     size \u001b[38;5;241m=\u001b[39m selenium_element\u001b[38;5;241m.\u001b[39msize\n",
      "File \u001b[1;32mc:\\Users\\georg\\anaconda3\\envs\\webagent\\lib\\site-packages\\selenium\\webdriver\\remote\\webdriver.py:766\u001b[0m, in \u001b[0;36mWebDriver.find_element\u001b[1;34m(self, by, value)\u001b[0m\n\u001b[0;32m    763\u001b[0m         \u001b[38;5;28;01mraise\u001b[39;00m NoSuchElementException(\u001b[38;5;124mf\u001b[39m\u001b[38;5;124m\"\u001b[39m\u001b[38;5;124mCannot locate relative element with: \u001b[39m\u001b[38;5;132;01m{\u001b[39;00mby\u001b[38;5;241m.\u001b[39mroot\u001b[38;5;132;01m}\u001b[39;00m\u001b[38;5;124m\"\u001b[39m)\n\u001b[0;32m    764\u001b[0m     \u001b[38;5;28;01mreturn\u001b[39;00m elements[\u001b[38;5;241m0\u001b[39m]\n\u001b[1;32m--> 766\u001b[0m \u001b[38;5;28;01mreturn\u001b[39;00m \u001b[38;5;28;43mself\u001b[39;49m\u001b[38;5;241;43m.\u001b[39;49m\u001b[43mexecute\u001b[49m\u001b[43m(\u001b[49m\u001b[43mCommand\u001b[49m\u001b[38;5;241;43m.\u001b[39;49m\u001b[43mFIND_ELEMENT\u001b[49m\u001b[43m,\u001b[49m\u001b[43m \u001b[49m\u001b[43m{\u001b[49m\u001b[38;5;124;43m\"\u001b[39;49m\u001b[38;5;124;43musing\u001b[39;49m\u001b[38;5;124;43m\"\u001b[39;49m\u001b[43m:\u001b[49m\u001b[43m \u001b[49m\u001b[43mby\u001b[49m\u001b[43m,\u001b[49m\u001b[43m \u001b[49m\u001b[38;5;124;43m\"\u001b[39;49m\u001b[38;5;124;43mvalue\u001b[39;49m\u001b[38;5;124;43m\"\u001b[39;49m\u001b[43m:\u001b[49m\u001b[43m \u001b[49m\u001b[43mvalue\u001b[49m\u001b[43m}\u001b[49m\u001b[43m)\u001b[49m[\u001b[38;5;124m\"\u001b[39m\u001b[38;5;124mvalue\u001b[39m\u001b[38;5;124m\"\u001b[39m]\n",
      "File \u001b[1;32mc:\\Users\\georg\\anaconda3\\envs\\webagent\\lib\\site-packages\\selenium\\webdriver\\remote\\webdriver.py:378\u001b[0m, in \u001b[0;36mWebDriver.execute\u001b[1;34m(self, driver_command, params)\u001b[0m\n\u001b[0;32m    375\u001b[0m     \u001b[38;5;28;01melif\u001b[39;00m \u001b[38;5;124m\"\u001b[39m\u001b[38;5;124msessionId\u001b[39m\u001b[38;5;124m\"\u001b[39m \u001b[38;5;129;01mnot\u001b[39;00m \u001b[38;5;129;01min\u001b[39;00m params:\n\u001b[0;32m    376\u001b[0m         params[\u001b[38;5;124m\"\u001b[39m\u001b[38;5;124msessionId\u001b[39m\u001b[38;5;124m\"\u001b[39m] \u001b[38;5;241m=\u001b[39m \u001b[38;5;28mself\u001b[39m\u001b[38;5;241m.\u001b[39msession_id\n\u001b[1;32m--> 378\u001b[0m response \u001b[38;5;241m=\u001b[39m \u001b[38;5;28;43mself\u001b[39;49m\u001b[38;5;241;43m.\u001b[39;49m\u001b[43mcommand_executor\u001b[49m\u001b[38;5;241;43m.\u001b[39;49m\u001b[43mexecute\u001b[49m\u001b[43m(\u001b[49m\u001b[43mdriver_command\u001b[49m\u001b[43m,\u001b[49m\u001b[43m \u001b[49m\u001b[43mparams\u001b[49m\u001b[43m)\u001b[49m\n\u001b[0;32m    379\u001b[0m \u001b[38;5;28;01mif\u001b[39;00m response:\n\u001b[0;32m    380\u001b[0m     \u001b[38;5;28mself\u001b[39m\u001b[38;5;241m.\u001b[39merror_handler\u001b[38;5;241m.\u001b[39mcheck_response(response)\n",
      "File \u001b[1;32mc:\\Users\\georg\\anaconda3\\envs\\webagent\\lib\\site-packages\\selenium\\webdriver\\remote\\remote_connection.py:391\u001b[0m, in \u001b[0;36mRemoteConnection.execute\u001b[1;34m(self, command, params)\u001b[0m\n\u001b[0;32m    389\u001b[0m trimmed \u001b[38;5;241m=\u001b[39m \u001b[38;5;28mself\u001b[39m\u001b[38;5;241m.\u001b[39m_trim_large_entries(params)\n\u001b[0;32m    390\u001b[0m LOGGER\u001b[38;5;241m.\u001b[39mdebug(\u001b[38;5;124m\"\u001b[39m\u001b[38;5;132;01m%s\u001b[39;00m\u001b[38;5;124m \u001b[39m\u001b[38;5;132;01m%s\u001b[39;00m\u001b[38;5;124m \u001b[39m\u001b[38;5;132;01m%s\u001b[39;00m\u001b[38;5;124m\"\u001b[39m, command_info[\u001b[38;5;241m0\u001b[39m], url, \u001b[38;5;28mstr\u001b[39m(trimmed))\n\u001b[1;32m--> 391\u001b[0m \u001b[38;5;28;01mreturn\u001b[39;00m \u001b[38;5;28;43mself\u001b[39;49m\u001b[38;5;241;43m.\u001b[39;49m\u001b[43m_request\u001b[49m\u001b[43m(\u001b[49m\u001b[43mcommand_info\u001b[49m\u001b[43m[\u001b[49m\u001b[38;5;241;43m0\u001b[39;49m\u001b[43m]\u001b[49m\u001b[43m,\u001b[49m\u001b[43m \u001b[49m\u001b[43murl\u001b[49m\u001b[43m,\u001b[49m\u001b[43m \u001b[49m\u001b[43mbody\u001b[49m\u001b[38;5;241;43m=\u001b[39;49m\u001b[43mdata\u001b[49m\u001b[43m)\u001b[49m\n",
      "File \u001b[1;32mc:\\Users\\georg\\anaconda3\\envs\\webagent\\lib\\site-packages\\selenium\\webdriver\\remote\\remote_connection.py:415\u001b[0m, in \u001b[0;36mRemoteConnection._request\u001b[1;34m(self, method, url, body)\u001b[0m\n\u001b[0;32m    412\u001b[0m     body \u001b[38;5;241m=\u001b[39m \u001b[38;5;28;01mNone\u001b[39;00m\n\u001b[0;32m    414\u001b[0m \u001b[38;5;28;01mif\u001b[39;00m \u001b[38;5;28mself\u001b[39m\u001b[38;5;241m.\u001b[39m_client_config\u001b[38;5;241m.\u001b[39mkeep_alive:\n\u001b[1;32m--> 415\u001b[0m     response \u001b[38;5;241m=\u001b[39m \u001b[38;5;28;43mself\u001b[39;49m\u001b[38;5;241;43m.\u001b[39;49m\u001b[43m_conn\u001b[49m\u001b[38;5;241;43m.\u001b[39;49m\u001b[43mrequest\u001b[49m\u001b[43m(\u001b[49m\u001b[43mmethod\u001b[49m\u001b[43m,\u001b[49m\u001b[43m \u001b[49m\u001b[43murl\u001b[49m\u001b[43m,\u001b[49m\u001b[43m \u001b[49m\u001b[43mbody\u001b[49m\u001b[38;5;241;43m=\u001b[39;49m\u001b[43mbody\u001b[49m\u001b[43m,\u001b[49m\u001b[43m \u001b[49m\u001b[43mheaders\u001b[49m\u001b[38;5;241;43m=\u001b[39;49m\u001b[43mheaders\u001b[49m\u001b[43m,\u001b[49m\u001b[43m \u001b[49m\u001b[43mtimeout\u001b[49m\u001b[38;5;241;43m=\u001b[39;49m\u001b[38;5;28;43mself\u001b[39;49m\u001b[38;5;241;43m.\u001b[39;49m\u001b[43m_client_config\u001b[49m\u001b[38;5;241;43m.\u001b[39;49m\u001b[43mtimeout\u001b[49m\u001b[43m)\u001b[49m\n\u001b[0;32m    416\u001b[0m     statuscode \u001b[38;5;241m=\u001b[39m response\u001b[38;5;241m.\u001b[39mstatus\n\u001b[0;32m    417\u001b[0m \u001b[38;5;28;01melse\u001b[39;00m:\n",
      "File \u001b[1;32mc:\\Users\\georg\\anaconda3\\envs\\webagent\\lib\\site-packages\\urllib3\\_request_methods.py:143\u001b[0m, in \u001b[0;36mRequestMethods.request\u001b[1;34m(self, method, url, body, fields, headers, json, **urlopen_kw)\u001b[0m\n\u001b[0;32m    135\u001b[0m     \u001b[38;5;28;01mreturn\u001b[39;00m \u001b[38;5;28mself\u001b[39m\u001b[38;5;241m.\u001b[39mrequest_encode_url(\n\u001b[0;32m    136\u001b[0m         method,\n\u001b[0;32m    137\u001b[0m         url,\n\u001b[1;32m   (...)\u001b[0m\n\u001b[0;32m    140\u001b[0m         \u001b[38;5;241m*\u001b[39m\u001b[38;5;241m*\u001b[39murlopen_kw,\n\u001b[0;32m    141\u001b[0m     )\n\u001b[0;32m    142\u001b[0m \u001b[38;5;28;01melse\u001b[39;00m:\n\u001b[1;32m--> 143\u001b[0m     \u001b[38;5;28;01mreturn\u001b[39;00m \u001b[38;5;28mself\u001b[39m\u001b[38;5;241m.\u001b[39mrequest_encode_body(\n\u001b[0;32m    144\u001b[0m         method, url, fields\u001b[38;5;241m=\u001b[39mfields, headers\u001b[38;5;241m=\u001b[39mheaders, \u001b[38;5;241m*\u001b[39m\u001b[38;5;241m*\u001b[39murlopen_kw\n\u001b[0;32m    145\u001b[0m     )\n",
      "File \u001b[1;32mc:\\Users\\georg\\anaconda3\\envs\\webagent\\lib\\site-packages\\urllib3\\_request_methods.py:278\u001b[0m, in \u001b[0;36mRequestMethods.request_encode_body\u001b[1;34m(self, method, url, fields, headers, encode_multipart, multipart_boundary, **urlopen_kw)\u001b[0m\n\u001b[0;32m    274\u001b[0m     extra_kw[\u001b[38;5;124m\"\u001b[39m\u001b[38;5;124mheaders\u001b[39m\u001b[38;5;124m\"\u001b[39m]\u001b[38;5;241m.\u001b[39msetdefault(\u001b[38;5;124m\"\u001b[39m\u001b[38;5;124mContent-Type\u001b[39m\u001b[38;5;124m\"\u001b[39m, content_type)\n\u001b[0;32m    276\u001b[0m extra_kw\u001b[38;5;241m.\u001b[39mupdate(urlopen_kw)\n\u001b[1;32m--> 278\u001b[0m \u001b[38;5;28;01mreturn\u001b[39;00m \u001b[38;5;28mself\u001b[39m\u001b[38;5;241m.\u001b[39murlopen(method, url, \u001b[38;5;241m*\u001b[39m\u001b[38;5;241m*\u001b[39mextra_kw)\n",
      "File \u001b[1;32mc:\\Users\\georg\\anaconda3\\envs\\webagent\\lib\\site-packages\\urllib3\\poolmanager.py:443\u001b[0m, in \u001b[0;36mPoolManager.urlopen\u001b[1;34m(self, method, url, redirect, **kw)\u001b[0m\n\u001b[0;32m    441\u001b[0m     response \u001b[38;5;241m=\u001b[39m conn\u001b[38;5;241m.\u001b[39murlopen(method, url, \u001b[38;5;241m*\u001b[39m\u001b[38;5;241m*\u001b[39mkw)\n\u001b[0;32m    442\u001b[0m \u001b[38;5;28;01melse\u001b[39;00m:\n\u001b[1;32m--> 443\u001b[0m     response \u001b[38;5;241m=\u001b[39m conn\u001b[38;5;241m.\u001b[39murlopen(method, u\u001b[38;5;241m.\u001b[39mrequest_uri, \u001b[38;5;241m*\u001b[39m\u001b[38;5;241m*\u001b[39mkw)\n\u001b[0;32m    445\u001b[0m redirect_location \u001b[38;5;241m=\u001b[39m redirect \u001b[38;5;129;01mand\u001b[39;00m response\u001b[38;5;241m.\u001b[39mget_redirect_location()\n\u001b[0;32m    446\u001b[0m \u001b[38;5;28;01mif\u001b[39;00m \u001b[38;5;129;01mnot\u001b[39;00m redirect_location:\n",
      "File \u001b[1;32mc:\\Users\\georg\\anaconda3\\envs\\webagent\\lib\\site-packages\\urllib3\\connectionpool.py:789\u001b[0m, in \u001b[0;36mHTTPConnectionPool.urlopen\u001b[1;34m(self, method, url, body, headers, retries, redirect, assert_same_host, timeout, pool_timeout, release_conn, chunked, body_pos, preload_content, decode_content, **response_kw)\u001b[0m\n\u001b[0;32m    786\u001b[0m response_conn \u001b[38;5;241m=\u001b[39m conn \u001b[38;5;28;01mif\u001b[39;00m \u001b[38;5;129;01mnot\u001b[39;00m release_conn \u001b[38;5;28;01melse\u001b[39;00m \u001b[38;5;28;01mNone\u001b[39;00m\n\u001b[0;32m    788\u001b[0m \u001b[38;5;66;03m# Make the request on the HTTPConnection object\u001b[39;00m\n\u001b[1;32m--> 789\u001b[0m response \u001b[38;5;241m=\u001b[39m \u001b[38;5;28mself\u001b[39m\u001b[38;5;241m.\u001b[39m_make_request(\n\u001b[0;32m    790\u001b[0m     conn,\n\u001b[0;32m    791\u001b[0m     method,\n\u001b[0;32m    792\u001b[0m     url,\n\u001b[0;32m    793\u001b[0m     timeout\u001b[38;5;241m=\u001b[39mtimeout_obj,\n\u001b[0;32m    794\u001b[0m     body\u001b[38;5;241m=\u001b[39mbody,\n\u001b[0;32m    795\u001b[0m     headers\u001b[38;5;241m=\u001b[39mheaders,\n\u001b[0;32m    796\u001b[0m     chunked\u001b[38;5;241m=\u001b[39mchunked,\n\u001b[0;32m    797\u001b[0m     retries\u001b[38;5;241m=\u001b[39mretries,\n\u001b[0;32m    798\u001b[0m     response_conn\u001b[38;5;241m=\u001b[39mresponse_conn,\n\u001b[0;32m    799\u001b[0m     preload_content\u001b[38;5;241m=\u001b[39mpreload_content,\n\u001b[0;32m    800\u001b[0m     decode_content\u001b[38;5;241m=\u001b[39mdecode_content,\n\u001b[0;32m    801\u001b[0m     \u001b[38;5;241m*\u001b[39m\u001b[38;5;241m*\u001b[39mresponse_kw,\n\u001b[0;32m    802\u001b[0m )\n\u001b[0;32m    804\u001b[0m \u001b[38;5;66;03m# Everything went great!\u001b[39;00m\n\u001b[0;32m    805\u001b[0m clean_exit \u001b[38;5;241m=\u001b[39m \u001b[38;5;28;01mTrue\u001b[39;00m\n",
      "File \u001b[1;32mc:\\Users\\georg\\anaconda3\\envs\\webagent\\lib\\site-packages\\urllib3\\connectionpool.py:536\u001b[0m, in \u001b[0;36mHTTPConnectionPool._make_request\u001b[1;34m(self, conn, method, url, body, headers, retries, timeout, chunked, response_conn, preload_content, decode_content, enforce_content_length)\u001b[0m\n\u001b[0;32m    534\u001b[0m \u001b[38;5;66;03m# Receive the response from the server\u001b[39;00m\n\u001b[0;32m    535\u001b[0m \u001b[38;5;28;01mtry\u001b[39;00m:\n\u001b[1;32m--> 536\u001b[0m     response \u001b[38;5;241m=\u001b[39m \u001b[43mconn\u001b[49m\u001b[38;5;241;43m.\u001b[39;49m\u001b[43mgetresponse\u001b[49m\u001b[43m(\u001b[49m\u001b[43m)\u001b[49m\n\u001b[0;32m    537\u001b[0m \u001b[38;5;28;01mexcept\u001b[39;00m (BaseSSLError, \u001b[38;5;167;01mOSError\u001b[39;00m) \u001b[38;5;28;01mas\u001b[39;00m e:\n\u001b[0;32m    538\u001b[0m     \u001b[38;5;28mself\u001b[39m\u001b[38;5;241m.\u001b[39m_raise_timeout(err\u001b[38;5;241m=\u001b[39me, url\u001b[38;5;241m=\u001b[39murl, timeout_value\u001b[38;5;241m=\u001b[39mread_timeout)\n",
      "File \u001b[1;32mc:\\Users\\georg\\anaconda3\\envs\\webagent\\lib\\site-packages\\urllib3\\connection.py:507\u001b[0m, in \u001b[0;36mHTTPConnection.getresponse\u001b[1;34m(self)\u001b[0m\n\u001b[0;32m    504\u001b[0m \u001b[38;5;28;01mfrom\u001b[39;00m \u001b[38;5;21;01m.\u001b[39;00m\u001b[38;5;21;01mresponse\u001b[39;00m \u001b[38;5;28;01mimport\u001b[39;00m HTTPResponse\n\u001b[0;32m    506\u001b[0m \u001b[38;5;66;03m# Get the response from http.client.HTTPConnection\u001b[39;00m\n\u001b[1;32m--> 507\u001b[0m httplib_response \u001b[38;5;241m=\u001b[39m \u001b[38;5;28;43msuper\u001b[39;49m\u001b[43m(\u001b[49m\u001b[43m)\u001b[49m\u001b[38;5;241;43m.\u001b[39;49m\u001b[43mgetresponse\u001b[49m\u001b[43m(\u001b[49m\u001b[43m)\u001b[49m\n\u001b[0;32m    509\u001b[0m \u001b[38;5;28;01mtry\u001b[39;00m:\n\u001b[0;32m    510\u001b[0m     assert_header_parsing(httplib_response\u001b[38;5;241m.\u001b[39mmsg)\n",
      "File \u001b[1;32mc:\\Users\\georg\\anaconda3\\envs\\webagent\\lib\\http\\client.py:1377\u001b[0m, in \u001b[0;36mHTTPConnection.getresponse\u001b[1;34m(self)\u001b[0m\n\u001b[0;32m   1375\u001b[0m \u001b[38;5;28;01mtry\u001b[39;00m:\n\u001b[0;32m   1376\u001b[0m     \u001b[38;5;28;01mtry\u001b[39;00m:\n\u001b[1;32m-> 1377\u001b[0m         \u001b[43mresponse\u001b[49m\u001b[38;5;241;43m.\u001b[39;49m\u001b[43mbegin\u001b[49m\u001b[43m(\u001b[49m\u001b[43m)\u001b[49m\n\u001b[0;32m   1378\u001b[0m     \u001b[38;5;28;01mexcept\u001b[39;00m \u001b[38;5;167;01mConnectionError\u001b[39;00m:\n\u001b[0;32m   1379\u001b[0m         \u001b[38;5;28mself\u001b[39m\u001b[38;5;241m.\u001b[39mclose()\n",
      "File \u001b[1;32mc:\\Users\\georg\\anaconda3\\envs\\webagent\\lib\\http\\client.py:320\u001b[0m, in \u001b[0;36mHTTPResponse.begin\u001b[1;34m(self)\u001b[0m\n\u001b[0;32m    318\u001b[0m \u001b[38;5;66;03m# read until we get a non-100 response\u001b[39;00m\n\u001b[0;32m    319\u001b[0m \u001b[38;5;28;01mwhile\u001b[39;00m \u001b[38;5;28;01mTrue\u001b[39;00m:\n\u001b[1;32m--> 320\u001b[0m     version, status, reason \u001b[38;5;241m=\u001b[39m \u001b[38;5;28;43mself\u001b[39;49m\u001b[38;5;241;43m.\u001b[39;49m\u001b[43m_read_status\u001b[49m\u001b[43m(\u001b[49m\u001b[43m)\u001b[49m\n\u001b[0;32m    321\u001b[0m     \u001b[38;5;28;01mif\u001b[39;00m status \u001b[38;5;241m!=\u001b[39m CONTINUE:\n\u001b[0;32m    322\u001b[0m         \u001b[38;5;28;01mbreak\u001b[39;00m\n",
      "File \u001b[1;32mc:\\Users\\georg\\anaconda3\\envs\\webagent\\lib\\http\\client.py:281\u001b[0m, in \u001b[0;36mHTTPResponse._read_status\u001b[1;34m(self)\u001b[0m\n\u001b[0;32m    280\u001b[0m \u001b[38;5;28;01mdef\u001b[39;00m \u001b[38;5;21m_read_status\u001b[39m(\u001b[38;5;28mself\u001b[39m):\n\u001b[1;32m--> 281\u001b[0m     line \u001b[38;5;241m=\u001b[39m \u001b[38;5;28mstr\u001b[39m(\u001b[38;5;28;43mself\u001b[39;49m\u001b[38;5;241;43m.\u001b[39;49m\u001b[43mfp\u001b[49m\u001b[38;5;241;43m.\u001b[39;49m\u001b[43mreadline\u001b[49m\u001b[43m(\u001b[49m\u001b[43m_MAXLINE\u001b[49m\u001b[43m \u001b[49m\u001b[38;5;241;43m+\u001b[39;49m\u001b[43m \u001b[49m\u001b[38;5;241;43m1\u001b[39;49m\u001b[43m)\u001b[49m, \u001b[38;5;124m\"\u001b[39m\u001b[38;5;124miso-8859-1\u001b[39m\u001b[38;5;124m\"\u001b[39m)\n\u001b[0;32m    282\u001b[0m     \u001b[38;5;28;01mif\u001b[39;00m \u001b[38;5;28mlen\u001b[39m(line) \u001b[38;5;241m>\u001b[39m _MAXLINE:\n\u001b[0;32m    283\u001b[0m         \u001b[38;5;28;01mraise\u001b[39;00m LineTooLong(\u001b[38;5;124m\"\u001b[39m\u001b[38;5;124mstatus line\u001b[39m\u001b[38;5;124m\"\u001b[39m)\n",
      "File \u001b[1;32mc:\\Users\\georg\\anaconda3\\envs\\webagent\\lib\\socket.py:716\u001b[0m, in \u001b[0;36mSocketIO.readinto\u001b[1;34m(self, b)\u001b[0m\n\u001b[0;32m    714\u001b[0m \u001b[38;5;28;01mwhile\u001b[39;00m \u001b[38;5;28;01mTrue\u001b[39;00m:\n\u001b[0;32m    715\u001b[0m     \u001b[38;5;28;01mtry\u001b[39;00m:\n\u001b[1;32m--> 716\u001b[0m         \u001b[38;5;28;01mreturn\u001b[39;00m \u001b[38;5;28;43mself\u001b[39;49m\u001b[38;5;241;43m.\u001b[39;49m\u001b[43m_sock\u001b[49m\u001b[38;5;241;43m.\u001b[39;49m\u001b[43mrecv_into\u001b[49m\u001b[43m(\u001b[49m\u001b[43mb\u001b[49m\u001b[43m)\u001b[49m\n\u001b[0;32m    717\u001b[0m     \u001b[38;5;28;01mexcept\u001b[39;00m timeout:\n\u001b[0;32m    718\u001b[0m         \u001b[38;5;28mself\u001b[39m\u001b[38;5;241m.\u001b[39m_timeout_occurred \u001b[38;5;241m=\u001b[39m \u001b[38;5;28;01mTrue\u001b[39;00m\n",
      "\u001b[1;31mKeyboardInterrupt\u001b[0m: "
     ]
    }
   ],
   "source": [
    "import itertools\n",
    "import requests\n",
    "from prompting import generate_elements_prompt\n",
    "import json\n",
    "def batch(iterable, n=1):\n",
    "    l = len(iterable)\n",
    "    for ndx in range(0, l, n):\n",
    "        yield iterable[ndx:min(ndx + n, l)]\n",
    "llm_url = \"http://localhost:11434/api/generate\"\n",
    "model = 'arcee-ai/arcee-agent'\n",
    "url = \"https://www.google.com/search?q=ucsd&oq=ucsd&gs_lcrp=EgZjaHJvbWUqDQgAEAAY4wIYsQMYgAQyDQgAEAAY4wIYsQMYgAQyBggBEEUYPDIKCAIQLhixAxiABDIGCAMQRRg8MgYIBBBFGEEyBggFEEUYPDIGCAYQRRhBMgYIBxBFGEHSAQgzNTUwajBqN6gCALACAA&sourceid=chrome&ie=UTF-8\"\n",
    "from web_reader import web_reader\n",
    "web_reader = web_reader(url)\n",
    "str1,record = generate_elements_prompt(web_reader.read()[0])\n",
    "str2= web_reader.read()[2]\n",
    "print(len(record))\n",
    "total_result = []\n",
    "for r in batch(record,50):\n",
    "    final_prompt = \"Based on the task, determine which elements are useful for or related to this task, task:search for ucsd,\\n web_elements:\" + \"\\n\".join(r) + \"you should only response the id of userful elements\"\n",
    "    response = requests.post(llm_url, json={\n",
    "                    \"model\": model,\n",
    "                    \"prompt\": final_prompt,\n",
    "                    \"streaming\": False,\n",
    "                    \"options\": {\n",
    "                        \"temperature\": 0\n",
    "                    },\n",
    "                }, stream=False)\n",
    "    result = \"\"\n",
    "    for i in response.iter_lines():\n",
    "        result += json.loads(i.decode('utf-8'))[\"response\"]\n",
    "    total_result.append(result)\n",
    "    \n",
    "print(total_result)\n"
   ]
  },
  {
   "cell_type": "code",
   "execution_count": null,
   "metadata": {},
   "outputs": [],
   "source": []
  },
  {
   "cell_type": "code",
   "execution_count": null,
   "metadata": {},
   "outputs": [],
   "source": [
    "import os\n",
    "\n",
    "# 定义代码所在的目录\n",
    "base_path = '/Users/gongzhenghao/Desktop/Web_Agent'\n",
    "\n",
    "# 在指定目录下递归统计所有的 .py 文件，以列表形式返回\n",
    "def collect_files(dir_path):\n",
    "    return [\n",
    "        os.path.join(parent, filename)\n",
    "        for parent, _, filenames in os.walk(dir_path)\n",
    "        for filename in filenames if filename.endswith('.py')\n",
    "    ]\n",
    "\n",
    "# 计算单个文件内的代码行数\n",
    "def calc_linenum(file_path):\n",
    "    code_num = 0      # 当前文件代码行数计数变量\n",
    "    blank_num = 0     # 当前文件空行数计数变量\n",
    "    annotate_num = 0  # 当前文件注释行数计数变量\n",
    "\n",
    "    with open(file_path, 'r', encoding='utf-8') as fp:\n",
    "        for line in fp:\n",
    "            line = line.strip()\n",
    "            if not line:  # 空行\n",
    "                blank_num += 1\n",
    "            elif line.startswith('#'):  # 注释行\n",
    "                annotate_num += 1\n",
    "            else:  # 代码行\n",
    "                code_num += 1\n",
    "\n",
    "    # 返回代码行数，空行数，注释行数\n",
    "    return code_num, blank_num, annotate_num\n",
    "\n",
    "# 统计目录中所有 .py 文件的代码行数\n",
    "def count_code_lines(base_dir):\n",
    "    files = collect_files(base_dir)\n",
    "    total_code_num = 0    # 总代码行数\n",
    "    total_blank_num = 0   # 总空行数\n",
    "    total_annotate_num = 0  # 总注释行数\n",
    "\n",
    "    print(f\"{'文件路径':<60} {'代码行数':<10} {'空行数':<10} {'注释行数':<10}\")\n",
    "    print(\"=\" * 90)\n",
    "\n",
    "    for file_path in files:\n",
    "        code_num, blank_num, annotate_num = calc_linenum(file_path)\n",
    "        total_code_num += code_num\n",
    "        total_blank_num += blank_num\n",
    "        total_annotate_num += annotate_num\n",
    "        print(f\"{file_path:<60} {code_num:<10} {blank_num:<10} {annotate_num:<10}\")\n",
    "\n",
    "    print(\"=\" * 90)\n",
    "    print(f\"代码总行数： {total_code_num}\")\n",
    "    print(f\"空行总行数： {total_blank_num}\")\n",
    "    print(f\"注释行总行数： {total_annotate_num}\")\n",
    "\n",
    "# 执行统计\n",
    "count_code_lines(base_path)\n"
   ]
  },
  {
   "cell_type": "markdown",
   "metadata": {},
   "source": []
  },
  {
   "cell_type": "code",
   "execution_count": null,
   "metadata": {},
   "outputs": [],
   "source": [
    "from prompting import reflection_prompt,generate_reflection,generate_elements_prompt,generate_functions_descriptions,function_data\n",
    "import requests\n",
    "import json\n",
    "from web_reader import web_reader\n",
    "model = \"arcee-ai/arcee-agent\"\n",
    "llm_url = \"http://localhost:11434/api/generate\"\n",
    "url = \"https://www.google.com\"\n",
    "account_setting = {\"user-data-dir\":\"path1\",\n",
    "\"--profile-directory\":\"path2\"}\n",
    "web_reader = web_reader(\"https://google.com\")\n",
    "total = web_reader.read()\n",
    "web_content,record = generate_elements_prompt(total[0])\n",
    "text = total[2]\n",
    "subtask = \"search for ucsd\"\n",
    "action = \"typing(7,'ucsd')\"\n",
    "function_str = generate_functions_descriptions(function_data)\n",
    "insert_place0 = \"\"\n",
    "insert_place1 = \"\"\n",
    "insert_place2 = \"\"\n",
    "print(\"start_calling\")\n",
    "generate_reflection(subtask,function_str,action,web_content,text,llm_url,model,\"{id=7, type = textarea, innertext = 搜索}\",insert_place0,insert_place1,insert_place2)"
   ]
  },
  {
   "cell_type": "code",
   "execution_count": 6,
   "metadata": {},
   "outputs": [],
   "source": [
    "import pyttsx3\n",
    "engine = pyttsx3.init()\n",
    "voices = engine.getProperty('voices') \n",
    "engine.setProperty('voice', voices[1].id) \n",
    "engine.say(\"hello\")\n",
    "engine.runAndWait()"
   ]
  }
 ],
 "metadata": {
  "kernelspec": {
   "display_name": "webagent",
   "language": "python",
   "name": "python3"
  },
  "language_info": {
   "codemirror_mode": {
    "name": "ipython",
    "version": 3
   },
   "file_extension": ".py",
   "mimetype": "text/x-python",
   "name": "python",
   "nbconvert_exporter": "python",
   "pygments_lexer": "ipython3",
   "version": "3.9.20"
  }
 },
 "nbformat": 4,
 "nbformat_minor": 2
}
